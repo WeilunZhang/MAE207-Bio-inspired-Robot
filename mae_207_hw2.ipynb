{
 "cells": [
  {
   "cell_type": "markdown",
   "metadata": {},
   "source": [
    "# Assignment 2: Inverse kinematics of our leg\n",
    "\n",
    "Use this noteboook to document interacting with the robot class. The primary goal for this assignment is a video recording and plot rendering of your robot leg commanded to move along an *interesting* path (see the bat sign I chose in the readme page). \n",
    "\n",
    "__Deliverables__\n",
    "1. Your leg.py file in the robot python module we are creating. The template provided has blank functions which need to be completed.\n",
    "2. Two videos, a video of your robot tracing out your commanded trajectory (uploaded to youtube), and a gif of robot commanded trajectory (like on the readme page).\n",
    "3. This notebook which you will use to send the move commands for the trajectory.\n",
    "\n",
    "\n",
    "Team #:\n",
    "\n",
    "Names:Lanjihong Ma\\Weilun Zhang"
   ]
  },
  {
   "cell_type": "markdown",
   "metadata": {},
   "source": [
    "# ![Simulation of Trajectory gif](traj.gif) "
   ]
  },
  {
   "cell_type": "markdown",
   "metadata": {},
   "source": [
    "# Getting started"
   ]
  },
  {
   "cell_type": "code",
   "execution_count": 3,
   "metadata": {},
   "outputs": [
    {
     "ename": "ModuleNotFoundError",
     "evalue": "No module named 'robot'",
     "output_type": "error",
     "traceback": [
      "\u001b[1;31m---------------------------------------------------------------------------\u001b[0m",
      "\u001b[1;31mModuleNotFoundError\u001b[0m                       Traceback (most recent call last)",
      "\u001b[1;32m<ipython-input-3-1cd377446bef>\u001b[0m in \u001b[0;36m<module>\u001b[1;34m()\u001b[0m\n\u001b[0;32m      1\u001b[0m \u001b[1;31m# Import the robot class we are developing\u001b[0m\u001b[1;33m\u001b[0m\u001b[1;33m\u001b[0m\u001b[0m\n\u001b[1;32m----> 2\u001b[1;33m \u001b[1;32mimport\u001b[0m \u001b[0mrobot\u001b[0m\u001b[1;33m\u001b[0m\u001b[0m\n\u001b[0m",
      "\u001b[1;31mModuleNotFoundError\u001b[0m: No module named 'robot'"
     ]
    }
   ],
   "source": [
    "# Import the robot class we are developing\n",
    "import robot"
   ]
  },
  {
   "cell_type": "code",
   "execution_count": 2,
   "metadata": {},
   "outputs": [],
   "source": [
    "# Make a new leg variable which is a robot.Leg class\n",
    "leg = robot.Leg()"
   ]
  },
  {
   "cell_type": "code",
   "execution_count": 3,
   "metadata": {},
   "outputs": [
    {
     "name": "stdout",
     "output_type": "stream",
     "text": [
      "joint0: 2.000000 \t joint1: 1.400000\n"
     ]
    }
   ],
   "source": [
    "leg.get_joint_pos()\n",
    "\n",
    "print('joint0: %f \\t joint1: %f' % (leg.joint_0_pos, leg.joint_1_pos))"
   ]
  },
  {
   "cell_type": "markdown",
   "metadata": {},
   "source": [
    "# Your code below!"
   ]
  },
  {
   "cell_type": "code",
   "execution_count": 4,
   "metadata": {},
   "outputs": [
    {
     "data": {
      "text/plain": [
       "(2.12351142258809, 1.01808120548276)"
      ]
     },
     "execution_count": 4,
     "metadata": {},
     "output_type": "execute_result"
    }
   ],
   "source": [
    "leg.compute_internal_angles(3.1415926/3,2*3.1415926/3)"
   ]
  },
  {
   "cell_type": "code",
   "execution_count": 5,
   "metadata": {},
   "outputs": [
    {
     "name": "stdout",
     "output_type": "stream",
     "text": [
      "done\n"
     ]
    },
    {
     "data": {
      "text/plain": [
       "(-0.206709851634065, 2.22407421496523)"
      ]
     },
     "execution_count": 5,
     "metadata": {},
     "output_type": "execute_result"
    }
   ],
   "source": [
    "leg.inverse_kinematics(3,14)"
   ]
  },
  {
   "cell_type": "code",
   "execution_count": 6,
   "metadata": {},
   "outputs": [],
   "source": [
    "import pandas as pd\n",
    "\n",
    "df = pd.read_csv('points_jump.csv')\n",
    "xx, yy = df['xx'], df['yy']\n",
    "tt = len(xx)"
   ]
  },
  {
   "cell_type": "code",
   "execution_count": 7,
   "metadata": {},
   "outputs": [
    {
     "name": "stdout",
     "output_type": "stream",
     "text": [
      "done\n",
      "done\n",
      "done\n",
      "done\n",
      "done\n",
      "done\n",
      "done\n",
      "done\n",
      "done\n",
      "done\n",
      "done\n",
      "done\n",
      "done\n",
      "done\n",
      "done\n",
      "done\n",
      "done\n",
      "done\n",
      "done\n",
      "done\n",
      "done\n",
      "done\n",
      "done\n",
      "done\n",
      "done\n",
      "done\n",
      "done\n",
      "done\n",
      "done\n",
      "done\n",
      "done\n",
      "done\n",
      "done\n",
      "done\n",
      "done\n",
      "done\n",
      "done\n",
      "done\n",
      "done\n",
      "done\n",
      "done\n",
      "done\n",
      "done\n",
      "done\n",
      "done\n",
      "done\n",
      "done\n",
      "done\n",
      "done\n",
      "done\n",
      "done\n",
      "done\n",
      "done\n",
      "done\n",
      "done\n",
      "done\n",
      "done\n",
      "done\n",
      "done\n",
      "done\n",
      "done\n",
      "done\n",
      "done\n",
      "done\n",
      "done\n",
      "done\n",
      "done\n",
      "done\n",
      "done\n",
      "done\n"
     ]
    }
   ],
   "source": [
    "(sim_theta0, sim_theta1, sim_alpha0, sim_alpha1) = leg.move_trajectory(tt, xx, yy)"
   ]
  },
  {
   "cell_type": "code",
   "execution_count": 8,
   "metadata": {},
   "outputs": [],
   "source": [
    "import matplotlib.pyplot as plt\n",
    "from sympy import sin, cos\n",
    "import numpy as np\n",
    "\n",
    "def sim_draw_leg(l0, l1, l2, theta1, theta2, alpha1, alpha2, ax=False):\n",
    "    \"\"\"\n",
    "    This function takes in the four angles of the leg and draws\n",
    "    the configuration\n",
    "    \"\"\"\n",
    "\n",
    "    link1, link2, width = l1, l2, l0\n",
    "    cor_range = l1 + l2\n",
    "    \n",
    "    if ax == False:\n",
    "        ax = plt.gca()\n",
    "        ax.cla()\n",
    "\n",
    "    ax.plot(-width / 2, 0, 'ok')\n",
    "    ax.plot(width / 2, 0, 'ok')\n",
    "\n",
    "    ax.plot([-width / 2, 0], [0, 0], 'k')\n",
    "    ax.plot([width / 2, 0], [0, 0], 'k')\n",
    "\n",
    "    ax.plot(-width / 2 + np.array([0, link1 * cos(theta2)]), [0, link1 * sin(theta2)], 'k')\n",
    "    ax.plot(width / 2 + np.array([0, link1 * cos(theta1)]), [0, link1 * sin(theta1)], 'k')\n",
    "\n",
    "    ax.plot(-width / 2 + link1 * cos(theta2) + np.array([0, link2 * cos(alpha2)]), \\\n",
    "            link1 * sin(theta2) + np.array([0, link2 * sin(alpha2)]), 'k');\n",
    "    ax.plot(width / 2 + link1 * cos(theta1) + np.array([0, link2 * cos(alpha1)]), \\\n",
    "            np.array(link1 * sin(theta1) + np.array([0, link2 * sin(alpha1)])), 'k');\n",
    "            \n",
    "    curr_x = float(width / 2 + link1 * cos(theta1) + link2 * cos(alpha1))\n",
    "    curr_y = float(np.array(link1 * sin(theta1) + link2 * sin(alpha1)))\n",
    "\n",
    "    ax.plot(curr_x, curr_y, 'ro');\n",
    "\n",
    "    ax.axis([-cor_range, cor_range, -l1, cor_range])\n",
    "    ax.invert_yaxis()\n",
    "\n"
   ]
  },
  {
   "cell_type": "code",
   "execution_count": 15,
   "metadata": {},
   "outputs": [],
   "source": [
    "# Draw the legs and trajectory\n",
    "%matplotlib qt5\n",
    "\n",
    "for i in range(tt):\n",
    "    sim_draw_leg(7.7, 7, 14, sim_theta0[i], sim_theta1[i], sim_alpha0[i], sim_alpha1[i])\n",
    "    plt.plot(xx[0:i+1], yy[0:i+1])\n",
    "    plt.pause(.15)"
   ]
  },
  {
   "cell_type": "code",
   "execution_count": 13,
   "metadata": {},
   "outputs": [],
   "source": [
    "import numpy as np\n",
    "thetas=np.loadtxt('thetas')\n",
    "theta0=thetas[0]\n",
    "theta1=thetas[1]\n",
    "leg.set_joint_pos(theta0[1],theta1[1])#home\n"
   ]
  },
  {
   "cell_type": "code",
   "execution_count": 9,
   "metadata": {},
   "outputs": [],
   "source": [
    "import time\n",
    "for i in range(len(theta0)):\n",
    "    leg.set_joint_pos(theta0[i],theta1[i])\n",
    "    time.sleep(0.4)\n",
    "    "
   ]
  },
  {
   "cell_type": "code",
   "execution_count": 1,
   "metadata": {},
   "outputs": [
    {
     "data": {
      "image/jpeg": "[encoded data removed]",
      "text/html": [
       "\n",
       "        <iframe\n",
       "            width=\"400\"\n",
       "            height=\"300\"\n",
       "            src=\"https://www.youtube.com/embed/YDXo-Oumomw\"\n",
       "            frameborder=\"0\"\n",
       "            allowfullscreen\n",
       "        ></iframe>\n",
       "        "
      ],
      "text/plain": [
       "<IPython.lib.display.YouTubeVideo at 0x278207a74a8>"
      ]
     },
     "execution_count": 1,
     "metadata": {},
     "output_type": "execute_result"
    }
   ],
   "source": [
    "from IPython.lib.display import YouTubeVideo\n",
    "YouTubeVideo('YDXo-Oumomw')"
   ]
  },
  {
   "cell_type": "code",
   "execution_count": null,
   "metadata": {},
   "outputs": [],
   "source": []
  }
 ],
 "metadata": {
  "kernelspec": {
   "display_name": "Python 3",
   "language": "python",
   "name": "python3"
  },
  "language_info": {
   "codemirror_mode": {
    "name": "ipython",
    "version": 3
   },
   "file_extension": ".py",
   "mimetype": "text/x-python",
   "name": "python",
   "nbconvert_exporter": "python",
   "pygments_lexer": "ipython3",
   "version": "3.6.4"
  }
 },
 "nbformat": 4,
 "nbformat_minor": 2
}
